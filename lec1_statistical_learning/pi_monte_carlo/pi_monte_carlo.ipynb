{
 "cells": [
  {
   "cell_type": "code",
   "execution_count": 18,
   "metadata": {},
   "outputs": [],
   "source": [
    "import matplotlib.pyplot as plt\n",
    "import random\n",
    "import numpy as np\n",
    "from scipy.interpolate import spline"
   ]
  },
  {
   "cell_type": "code",
   "execution_count": 45,
   "metadata": {},
   "outputs": [],
   "source": [
    "def monte_carlo_pi(n):\n",
    "    count_in_circle = 0\n",
    "    for i in range(n):\n",
    "        x = random.uniform(-1, 1)\n",
    "        y = random.uniform(-1, 1)\n",
    "        if x**2 + y**2 <= 1:\n",
    "            count_in_circle += 1\n",
    "    \n",
    "    return 4 * (count_in_circle) / n"
   ]
  },
  {
   "cell_type": "code",
   "execution_count": 46,
   "metadata": {},
   "outputs": [],
   "source": [
    "def increment(key, dist):\n",
    "    current_value = dist.get(key, 0)\n",
    "    dist[key] = current_value + 1"
   ]
  },
  {
   "cell_type": "code",
   "execution_count": 54,
   "metadata": {},
   "outputs": [],
   "source": [
    "def get_raw_pi_data(trials, samples):\n",
    "    dist_samples = {}\n",
    "    for i in range(trials):\n",
    "        pi = monte_carlo(samples)\n",
    "        pi_round = round(pi, 2)\n",
    "        increment(pi_round, dist_samples)\n",
    "    \n",
    "    return dist_samples"
   ]
  },
  {
   "cell_type": "markdown",
   "metadata": {},
   "source": [
    "The function `get_raw_pi_data()` calculates a probability distribution, formatted as a Python dictionary. The key for that dictionary is the `pi` calculated  by the monte carlo algorithm, and `value / trials` is the probability with which the algorithm calculates _that_ `pi`. The `samples` variable affects how accurate the monte carlo algorithm is."
   ]
  },
  {
   "cell_type": "code",
   "execution_count": 53,
   "metadata": {},
   "outputs": [],
   "source": [
    "def get_graphable_values(dist):\n",
    "    x_labels = list(dist.keys())\n",
    "    prob_sum = float(sum(dist.values()))\n",
    "    y_probs = [y/prob_sum for y in dist.values()]\n",
    "    (x_values, y_values) = zip(*sorted(zip(x_labels, y_probs)))\n",
    "    x_np = np.array(x_values)\n",
    "    y_np = np.array(y_values)\n",
    "    x_smooth = np.sort(np.linspace(2.5, 3.6, 500))\n",
    "    y_smooth = spline(x_np, y_np, x_smooth)\n",
    "    y_smooth[y_smooth < 0] = 0\n",
    "    return (x_smooth, y_smooth)"
   ]
  },
  {
   "cell_type": "markdown",
   "metadata": {},
   "source": [
    "In `get_graphable_values()`, we clean up the distribution a bit, and create a smooth curve for the distribution. Using it's return value, we can plot the probability distribution as shown below."
   ]
  },
  {
   "cell_type": "code",
   "execution_count": 65,
   "metadata": {},
   "outputs": [
    {
     "name": "stderr",
     "output_type": "stream",
     "text": [
      "/usr/local/lib/python3.5/dist-packages/ipykernel_launcher.py:11: DeprecationWarning: `spline` is deprecated!\n",
      "spline is deprecated in scipy 0.19.0, use Bspline class instead.\n",
      "  # This is added back by InteractiveShellApp.init_path()\n"
     ]
    },
    {
     "data": {
      "image/png": "[encoded data removed]",
      "text/plain": [
       "<Figure size 432x288 with 1 Axes>"
      ]
     },
     "metadata": {},
     "output_type": "display_data"
    }
   ],
   "source": [
    "#dist_small_samples = get_raw_pi_data(10000, 1000)\n",
    "#print(dist_small_samples)\n",
    "x_points, y_points = get_graphable_values(dist_small_samples)\n",
    "plt.plot(x_points, y_points)\n",
    "#plt.show()\n",
    "plt.savefig(\"low_samples.png\", dpi=200)"
   ]
  },
  {
   "cell_type": "code",
   "execution_count": 64,
   "metadata": {},
   "outputs": [
    {
     "name": "stderr",
     "output_type": "stream",
     "text": [
      "/usr/local/lib/python3.5/dist-packages/ipykernel_launcher.py:11: DeprecationWarning: `spline` is deprecated!\n",
      "spline is deprecated in scipy 0.19.0, use Bspline class instead.\n",
      "  # This is added back by InteractiveShellApp.init_path()\n"
     ]
    },
    {
     "data": {
      "image/png": "[encoded data removed]",
      "text/plain": [
       "<Figure size 432x288 with 1 Axes>"
      ]
     },
     "metadata": {},
     "output_type": "display_data"
    }
   ],
   "source": [
    "# Beware - the following command takes a lot of time to run.\n",
    "#dist_many_samples = get_raw_pi_data(10000, 100000)\n",
    "#print(dist_many_samples)\n",
    "x_points2, y_points2 = get_graphable_values(dist_many_samples)\n",
    "plt.plot(x_points2, y_points2)\n",
    "#plt.show()\n",
    "plt.savefig(\"many_samples.png\", dpi=200)"
   ]
  },
  {
   "cell_type": "code",
   "execution_count": null,
   "metadata": {},
   "outputs": [],
   "source": []
  }
 ],
 "metadata": {
  "kernelspec": {
   "display_name": "Python 3",
   "language": "python",
   "name": "python3"
  },
  "language_info": {
   "codemirror_mode": {
    "name": "ipython",
    "version": 3
   },
   "file_extension": ".py",
   "mimetype": "text/x-python",
   "name": "python",
   "nbconvert_exporter": "python",
   "pygments_lexer": "ipython3",
   "version": "3.5.2"
  }
 },
 "nbformat": 4,
 "nbformat_minor": 2
}
